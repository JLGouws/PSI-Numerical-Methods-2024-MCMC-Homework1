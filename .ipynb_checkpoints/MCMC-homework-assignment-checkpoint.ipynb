{
 "cells": [
  {
   "cell_type": "markdown",
   "id": "20a02177-7b6b-44eb-88dc-34b1cac20e11",
   "metadata": {},
   "source": [
    "# PSI Numerical Methods 2024 - Homework Assignment on Model Fitting & MCMC"
   ]
  },
  {
   "cell_type": "markdown",
   "id": "089e3de8-0052-42f4-a165-3f11dd288705",
   "metadata": {},
   "source": [
    "We're going to put together everything we have learned so far to re-do the data analysis for the\n",
    "Perlmutter et al. 1999 paper on the discovery of dark energy!  (https://ui.adsabs.harvard.edu/abs/1999ApJ...517..565P/abstract)\n",
    "\n",
    "Start by `Forking` this repository on Github: https://github.com/dstndstn/PSI-Numerical-Methods-2024-MCMC-Homework\n",
    "And then clone the repository to your laptop or to Symmetry.\n",
    "You can modify this notebook, and when you are done, save it, and then `git commit -a` the results,\n",
    "and `git push` them back to your fork of the repository.  You will \"hand in\" your homework by giving\n",
    "a link to your Github repository, where the marker will be able to read your notebook.\n",
    "\n",
    "First, a little bit of background on the cosmology and astrophysics.  The paper reports measurements\n",
    "of a group of supernova explosions of a specific type, \"Type 1a\".  These are thought to be caused by\n",
    "a white dwarf star that has a companion star that \"donates\" gas to the white dwarf.  It gradually gains\n",
    "mass until it exceeds the Chandresekhar mass, and explodes.  Since they all explode through the same\n",
    "mechanism, and with the same mass, they should all have the same intrinsic brightess.  It turns out to\n",
    "be a _little_ more complicated than that, but in the end, these Type-1a supernovae can be turned into\n",
    "\"standard candles\", objects that are all the same brightness.  If you can also measure the redshift of\n",
    "each galaxy containing the supernova, then you can map out this brightness--redshift relation, and the\n",
    "shape of that relation depends on how the universe grows over cosmic time.  In turn, the growth rate of\n",
    "the universe depends on the contents of the universe!\n",
    "\n",
    "In this way, these Type-1a supernova allow us to constrain the parameters of a model of the universe.\n",
    "Specifically, the model is called \"Lambda-CDM\", a universe containing dark energy and matter (cold dark matter,\n",
    "plus regular matter).  We will consider a two-parameter version of this model: $\\Omega_M$, the\n",
    "amount of matter, and $\\Omega_{\\Lambda}$, the amount of dark energy.  These are in cosmology units of\n",
    "\"energy density now relative to the critical density\", where the critical density is the energy density you need\n",
    "for the universe to be spatially flat (angles of a large triangle sum to 180 degrees).\n",
    "So $\\Omega_M = 1$, $\\Omega_{\\Lambda} = 0$ would be a flat universe containing all matter, while\n",
    "$\\Omega_M = 0.25$, $\\Omega_{\\Lambda} = 0.5$ would be a spatially closed universe with dark energy and matter.\n",
    "Varying these ingredients changes the growth history of the universe, which changes how much the light from a\n",
    "supernova is redshifted, and how its brightness drops off with distance.\n",
    "\n",
    "(In the code below, we will call these `Omega_M` = $\\Omega_M$ and `Omega_DE` = $\\Omega_{\\Lambda}$.)\n",
    "\n",
    "Distance measurements in cosmology are complicated -- see https://arxiv.org/abs/astro-ph/9905116 for details!\n",
    "For this assignment, we will use a cosmology package that will handle all this for us.  All we need to use is\n",
    "the \"luminosity distance\", which is the one that tells you how objects get fainter given a redshift."
   ]
  },
  {
   "cell_type": "code",
   "execution_count": null,
   "id": "a17ad42b-16b9-45ef-ac06-06383f50764a",
   "metadata": {},
   "outputs": [],
   "source": [
    "# Let's start by installing the Cosmology package!\n",
    "using Pkg\n",
    "Pkg.add(\"Cosmology\")"
   ]
  },
  {
   "cell_type": "code",
   "execution_count": null,
   "id": "0dbffaea-f314-4272-962e-3358d17420e5",
   "metadata": {},
   "outputs": [],
   "source": [
    "# We'll also end up using all our old friends:\n",
    "using WGLMakie\n",
    "using CSV\n",
    "using DataFrames\n",
    "using Cosmology\n",
    "using Statistics"
   ]
  },
  {
   "cell_type": "code",
   "execution_count": null,
   "id": "f6ae3590-762f-47df-828e-371884e1978f",
   "metadata": {},
   "outputs": [],
   "source": [
    "# There is a data file in this directory, taken basically straight out of the Perlmutter+1999 paper.  We can read it with the CSV package.\n",
    "data = CSV.read(\"p99-data.txt\", DataFrame, delim=\" \", ignorerepeated=true);"
   ]
  },
  {
   "cell_type": "code",
   "execution_count": null,
   "id": "d9e31b8e-4324-4e9d-8ce0-d40efd7316c4",
   "metadata": {},
   "outputs": [],
   "source": [
    "# Make a copy of the data columns that we want to treat as the \"y\" measurements.\n",
    "# These are the measured brightnesses, and their Gaussian uncertainties (standard deviations).\n",
    "data.mag = data.m_b_eff\n",
    "data.sigma_mag = data.sigma_m_b_eff;"
   ]
  },
  {
   "cell_type": "code",
   "execution_count": null,
   "id": "46283e6a-9661-42db-88b7-387a8876ad02",
   "metadata": {},
   "outputs": [],
   "source": [
    "f = Figure()\n",
    "Axis(f[1,1], title=\"Perlmutter+99 Supernovae\", xlabel=\"Redshift z\", ylabel=\"m_B\")\n",
    "errorbars!(data.z, data.mag, data.sigma_mag)\n",
    "scatter!(data.z, data.mag, markersize=5, color=:maroon)\n",
    "display(f)"
   ]
  },
  {
   "cell_type": "code",
   "execution_count": null,
   "id": "3a3a7bcf-79a7-4bd9-9fa0-b003560012a5",
   "metadata": {},
   "outputs": [],
   "source": [
    "# Here is how we will use the \"cosmology\" package.  This will create a cosmology \"object\" with the parameters we pass in.\n",
    "# It does not take an Omega_Lambda parameter; instead, it takes Omega_Matter, and Omega_K (for \"curvature\"), where\n",
    "# Omega_K = 1. - Omatter - Olambda.  We will also pass in \"Tcmb=0\", which tells it to ignore the effects of radiation.\n",
    "\n",
    "universe = cosmology(OmegaK=0.1, OmegaM=0.4, Tcmb=0)\n",
    "@show universe\n",
    "@show universe.Ω_Λ;"
   ]
  },
  {
   "cell_type": "code",
   "execution_count": null,
   "id": "9319a9a6-0ed7-46d8-b7bc-27a98b3b3248",
   "metadata": {},
   "outputs": [],
   "source": [
    "# We can then pass that \"universe\" object to other functions to compute things about it.  Basically the only one you'll\n",
    "# need is this `distance_modulus`, which tell you, in _magnitudes_, how much fainter an object is at the given redshift,\n",
    "# versus how faint it would be if it were 10 parsecs away.\n",
    "\n",
    "function distance_modulus(universe, z)\n",
    "    DL = luminosity_dist(universe, z)\n",
    "    # DL is in Megaparsecs; the distance for absolute to observed mag is 10 pc.\n",
    "    5. * log10.(DL.val * 1e6 / 10.)\n",
    "end;"
   ]
  },
  {
   "cell_type": "markdown",
   "id": "ed8fea48-101c-4efa-a99f-07728489187a",
   "metadata": {},
   "source": [
    "There is one more parameter to the model we will be fitting: $M$, the _absolute magnitude_ of the supernovae.  This is a\n",
    "\"nuisance parameter\" - a parameter that we have to fit for, but that we don't really care about; it's basically a calibration\n",
    "of what the intrinsic brightness of a supernova is.  To start out, we will fix this value to a constant, but later we will\n",
    "fit for it along with our Omegas.\n",
    "\n",
    "The _observed_ brightness of a supernova will be its _absolute mag_ plus its _distance modulus_.  The _distance modulus_ depends on\n",
    "the redshift _z_ and our parameters Omega_M and Omega_DE."
   ]
  },
  {
   "cell_type": "code",
   "execution_count": null,
   "id": "22a7cb6d-ff20-48e4-9578-90be73eaf8b7",
   "metadata": {},
   "outputs": [],
   "source": [
    "# We'll cheat a bit and use a \"nominal\" cosmology with currently-accepted values of Omega_M = 0.29, Omega_DE = 0.71.\n",
    "nominal = cosmology(Tcmb=0)\n",
    "\n",
    "f = Figure()\n",
    "ax = Axis(f[1,1], title=\"Perlmutter+99 Supernovae\", xlabel=\"Redshift z\", ylabel=\"Observed mag\")\n",
    "errorbars!(data.z, data.mag, data.sigma_mag)\n",
    "scatter!(data.z, data.mag, markersize=5, color=:maroon)\n",
    "\n",
    "# Compute the average absolute magnitude M given nominal cosmology -- ie, an estimate of the absolute mag of the supernovae\n",
    "DLx = map(z->distance_modulus(nominal, z), data.z)\n",
    "abs_mag = median(data.mag - DLx)\n",
    "\n",
    "# Here's another way to plot a function evaluated on a grid of values.\n",
    "zgrid = 0.01:0.01:1.\n",
    "DL = map(z->distance_modulus(nominal, z), zgrid)\n",
    "lines!(zgrid, DL .+ abs_mag, label=\"Nominal OmegaM = 0.29, OmegaDE = 0.71\")\n",
    "\n",
    "universe = cosmology(OmegaK=0.0, OmegaM=0.6, Tcmb=0)\n",
    "DL = map(z->distance_modulus(universe, z), zgrid)\n",
    "lines!(zgrid, DL .+ abs_mag, color=:red, label=\"OmegaM = 0.6, OmegaDE = 0.4\")\n",
    "\n",
    "universe = cosmology(OmegaK=0.0, OmegaM=0.1, Tcmb=0)\n",
    "DL = map(z->distance_modulus(universe, z), zgrid)\n",
    "lines!(zgrid, DL .+ abs_mag, color=:green, label=\"OmegaM = 0.1, OmegaDE = 0.9\")\n",
    "\n",
    "#f[2,1] = Legend(f, ax, \"Cosmologies\", framevisible = false)\n",
    "# Create a legend for our plot\n",
    "axislegend(ax, position = :rb)\n",
    "f"
   ]
  },
  {
   "cell_type": "code",
   "execution_count": null,
   "id": "f0ea93f2-27bb-4797-bc32-3eedce485a37",
   "metadata": {},
   "outputs": [],
   "source": [
    "# Here's our scalar estimate of the absolute mag.\n",
    "abs_mag"
   ]
  },
  {
   "cell_type": "markdown",
   "id": "06d4b51d-099c-4c8a-8bc8-505b6f3dc99c",
   "metadata": {},
   "source": [
    "## Part 1 - The Log-likelihood terrain"
   ]
  },
  {
   "cell_type": "markdown",
   "id": "f31e698a-cf0b-4b7f-b47f-b8e37f38b686",
   "metadata": {},
   "source": [
    "First, you have to write out the likelihood function for the observed supernova data, given cosmological model parameters.\n",
    "\n",
    "That is, please complete the following function.  It will be passed vectors of `z`, `mag`, and `mag_error` measurements,\n",
    "plus scalar parameters `M`, `Omega_M` and `Omega_DE`.  You will need to create a \"cosmology\" object, find the _distance modulus_ for\n",
    "each redshift `z`, and add that to the absolute mag `M` to get the _predicted_ magnitude.  You will then compare that to each\n",
    "measured magnitude, and compute the likelihood."
   ]
  },
  {
   "cell_type": "code",
   "execution_count": null,
   "id": "24887ff8-e68b-49cc-bcc1-c43849059be0",
   "metadata": {},
   "outputs": [],
   "source": [
    "function supernova_log_likelihood(zs, mag, mag_error, M, Omatter, Ode)\n",
    "    # z: vector of redshifts\n",
    "    # mag: vector of measured magnitudes\n",
    "    # mag_error: vector of uncertainties on the measured magnitudes (sigmas).\n",
    "    # M: scalar, absolute magnitude of a Type-1a supernova\n",
    "    # Omatter: scalar Omega_M, amount of matter in the universe\n",
    "    # Ode: scalar Omega_DE, amount of dark energy in the universe\n",
    "\n",
    "    ###   YOUR CODE HERE!!\n",
    "    cosModel = cosmology(OmegaK=1. - Omatter - Ode, OmegaM=Omatter, Tcmb=0) #make the cosmology \"object\"\n",
    "\n",
    "    mag_pred = (z -> distance_modulus(cosModel, z) + M).(zs) #vectorize the operations on zs\n",
    "\n",
    "    chi = (mag_pred - mag) ./ mag_error\n",
    "    sum(-0.5 .* chi.^2)\n",
    "\n",
    "    # You must return a scalar value\n",
    "end;"
   ]
  },
  {
   "cell_type": "markdown",
   "id": "95f5fed8-816a-45b5-b443-70687aca094f",
   "metadata": {},
   "source": [
    "Next, please keep `M` fixed to the `abs_mag` value we computed above, and call your `supernova_log_likelihood` on a grid of\n",
    "`Omega_M` and `Omega_DE` values.  (You will pass in `data.z`, `data.mag`, and `data.sigma_mag` for the `z`, `mag`, and `mag_error` values.)\n",
    "\n",
    "Try a grid from 0 to 1 for both Omega_M and Omega_DE, and show the `supernova_log_likelihood` values using the `heatmap` function.\n",
    "You may find it helpful to limit the range using something like `heatmap(om_grid, ode_grid, sn_ll, colorrange=[maximum(sn_ll)-20, maximum(sn_ll)])`.\n",
    "\n",
    "Another thing you can do is, instead of showing the _log_-likelihood, show the likelihood by taking the `exp` of your `sn_ll` grid, like this, `heatmap(om_grid, ode_grid, exp.(sn_ll))`.\n",
    "\n",
    "Please compare your plot to Figure 7 in the Perlmutter et al. 1999 paper, shown below.  Does your likelihood contour look consistent with the blue ellipses?"
   ]
  },
  {
   "cell_type": "code",
   "execution_count": null,
   "id": "5d0ede5e-11fb-437b-bfbe-1984c82d0832",
   "metadata": {},
   "outputs": [],
   "source": [
    "n_om, n_ode = 50,50\n",
    "om_grid = LinRange(0, 1, n_om)\n",
    "ode_grid = LinRange(0, 1, n_ode)\n",
    "sn_ll = zeros(n_om, n_ode)\n",
    "for i in 1:n_om\n",
    "    for j in 1:n_ode\n",
    "        sn_ll[i, j] = supernova_log_likelihood(data.z, data.mag, data.sigma_mag, abs_mag, om_grid[i], ode_grid[j])\n",
    "    end\n",
    "end\n",
    "\n",
    "heatmap(om_grid, ode_grid, sn_ll, colorrange=[maximum(sn_ll)-20, maximum(sn_ll)])"
   ]
  },
  {
   "cell_type": "markdown",
   "id": "18a96c60-10ca-4197-a926-b8ffc5d7a008",
   "metadata": {},
   "source": [
    "The resulting heat map looks pretty similar to the contour plot in Perlmutter, same shape and direction in the restricted region."
   ]
  },
  {
   "cell_type": "markdown",
   "id": "3aa479c5-cfcc-464c-a558-89f14c06598f",
   "metadata": {},
   "source": [
    "<img src=\"perlmutter-fig7.png\" width=\"400\"/>\n",
    "\n"
   ]
  },
  {
   "cell_type": "markdown",
   "id": "8cfd66f9-4563-42d8-98a9-18bed8670740",
   "metadata": {},
   "source": [
    "Next, try expanding the grid ranges for Omega_M and Omega_DE up to, say, 0 to 2 or 0 to 3.  You should encounter a problem -- the cosmology package will fail to compute the `distance_modulus` for some combinations!  You can work around this by using Julia's `try...catch` syntax,\n",
    "like this:"
   ]
  },
  {
   "cell_type": "code",
   "execution_count": null,
   "id": "eb33058c-5639-4b02-9e09-ff15145ab86b",
   "metadata": {},
   "outputs": [],
   "source": [
    "n_om2, n_ode2 = 100,100\n",
    "om_grid2 = LinRange(0, 3, n_om2)\n",
    "ode_grid2 = LinRange(-1.5, 3, n_ode2)\n",
    "sn_ll2 = zeros(n_om2, n_ode2)\n",
    "for i in 1:n_om2\n",
    "    for j in 1:n_ode2\n",
    "        try #very bad way of doing this, should rather make supernova_log_likelihood to check for parameters.\n",
    "            sn_ll2[i, j] = supernova_log_likelihood(data.z, data.mag, data.sigma_mag, abs_mag, om_grid2[i], ode_grid2[j])\n",
    "        catch err\n",
    "            sn_ll2[i, j] = -Inf\n",
    "        end\n",
    "    end\n",
    "end\n",
    "\n",
    "heatmap(om_grid2, ode_grid2, sn_ll2, colorrange=[maximum(sn_ll2)-20, maximum(sn_ll2)])"
   ]
  },
  {
   "cell_type": "markdown",
   "id": "6948a594-9b26-4ead-b915-e5ffff5b1e55",
   "metadata": {},
   "source": [
    "This will \"try\" to run the `supernova_log_likelihood` function, and if it fails, it will go into the \"catch\" branch."
   ]
  },
  {
   "cell_type": "markdown",
   "id": "e7afcb85-5a3e-4f6b-a3bb-aa4f36e2f34c",
   "metadata": {},
   "source": [
    "## Part 2 - Using MCMC to sample from the likelihood"
   ]
  },
  {
   "cell_type": "markdown",
   "id": "db573922-c863-4ded-91fa-cc458d43c54f",
   "metadata": {},
   "source": [
    "Next, we will use Markov Chain Monte Carlo to draw samples from the likelihood distribution.\n",
    "\n",
    "You can start with the `mcmc` function from the lecture.\n",
    "\n",
    "You will need to tune the MCMC proposal's step sizes (also known as \"jump sizes\").  To do this, you can use\n",
    "the variant of the `mcmc` routine that cycles through the parameters and only jumps one at a time, named\n",
    "`mcmc_cyclic` in the updated lecture notebook.  After tuning the step sizes with `mcmc_cyclic`, you can go back\n",
    "to the plain `mcmc` routine if you want, or stick with `mcmc_cyclic`; it is up to you.\n",
    "\n",
    "Please plot the samples from your MCMC chains, to demonstrate that the chain looks like it has converged.  Ideally, you\n",
    "would like to see reasonable acceptance rates, and you would like to see the samples \"exploring\" the parameter space.\n",
    "Decide how many step you need to run the MCMC routine for, and write a sentence or two describing why you think that's\n",
    "a good number.\n",
    "\n",
    "For this part, please include the `M` (absolute magnitude) as a parameter that you are fitting -- so you are fitting for `M`\n",
    "in addition to `Omega_M` and `Omega_DE`.  This is a quite standard situation where you have a \"nuisance\" parameter `M`\n",
    "that you don't really care about, in addition to the `Omega` parameters that you do care about."
   ]
  },
  {
   "cell_type": "markdown",
   "id": "9bd3cc89-207a-4b34-bb9f-b591e25a513d",
   "metadata": {},
   "source": [
    "It is quite common to plot the results from an MCMC sampling using a \"corner plot\", which shows the distribution of\n",
    "each of the individual parameters, and the joint distributions of pairs of parameters.  This will help you determine\n",
    "whether some of the parameters are correlated with each other.\n",
    "\n",
    "Below is a function you can use to generate corner plots from your chain -- call it like `cornerplot(chain, [\"M\", \"Omega_M\", \"Omega_DE\"])`.  There is also a CornerPlot package (https://juliapackages.com/p/cornerplot) but I have not had luck getting it\n",
    "to work for me.\n",
    "\n",
    "Once you have made you corner plots, please write a few sentences interpreting what you see.  Is the nuisance parameter `M` correlated with the Omegas?  Are the Omegas correlated with each other?"
   ]
  },
  {
   "cell_type": "code",
   "execution_count": null,
   "id": "2ec8c1f2-b24d-4c5f-a068-3b4868b575eb",
   "metadata": {},
   "outputs": [],
   "source": [
    "function cornerplot(x, names; figsize=(600,600))\n",
    "    # how many columns of data\n",
    "    dim = size(x, 2)\n",
    "    # rows to plot\n",
    "    idxs = 1:size(x,1)\n",
    "    f = Figure(size=figsize)\n",
    "    for i in 1:dim, j in 1:dim\n",
    "        if i < j\n",
    "            continue\n",
    "        end\n",
    "        ax = Axis(f[i, j], aspect = 1,\n",
    "                  topspinevisible = false,\n",
    "                  rightspinevisible = false,)\n",
    "        if i == j\n",
    "            hist!(x[idxs,i], direction=:y)\n",
    "            ax.xlabel = names[i]\n",
    "        else\n",
    "            #scatter!(x[idxs,j], x[idxs,i], markersize=4)\n",
    "            hexbin!(x[idxs,j], x[idxs,i])\n",
    "            ax.xlabel = names[j]\n",
    "            ax.ylabel = names[i]\n",
    "        end\n",
    "    end\n",
    "    f\n",
    "end;"
   ]
  },
  {
   "cell_type": "markdown",
   "id": "24440234-4e69-4da2-9884-8074d6972f7e",
   "metadata": {},
   "source": [
    "Here is the cyclic Markov Chain Monte Carlo function that I got from the lecture notes."
   ]
  },
  {
   "cell_type": "code",
   "execution_count": null,
   "id": "0caaa98c-cdc0-4fe6-b42e-852bb6ec90d5",
   "metadata": {},
   "outputs": [],
   "source": [
    "function mcmc_cyclic(logprob_func, propose_func, initial_p, n_steps)\n",
    "    p = initial_p\n",
    "    logprob = logprob_func(p)\n",
    "    chain = zeros(n_steps, length(p))\n",
    "    n_accept = zeros(length(p))\n",
    "\n",
    "    for i in 1:n_steps\n",
    "\n",
    "        # We're going to update one index at a time... 1, 2, 1, 2, ....\n",
    "        update_index = 1 + ((i-1) % length(p))\n",
    "\n",
    "        # Call the proposal function to generate new values for all parameters...\n",
    "        p_prop = propose_func(p)\n",
    "        # ... but then only keep one of the new parameter values!\n",
    "        p_new = copy(p)\n",
    "        p_new[update_index] = p_prop[update_index]\n",
    "        \n",
    "        logprob_new = logprob_func(p_new)\n",
    "\n",
    "        ratio = exp(logprob_new - logprob)\n",
    "        if ratio > 1\n",
    "            # Jump to the new place\n",
    "            p = p_new\n",
    "            logprob = logprob_new\n",
    "            n_accept[update_index] += 1\n",
    "        else\n",
    "            # Jump to the new place with probability \"ratio\"\n",
    "            u = rand()\n",
    "            if u < ratio\n",
    "                # Jump to the new place\n",
    "                p = p_new\n",
    "                logprob = logprob_new\n",
    "                n_accept[update_index] += 1\n",
    "            else\n",
    "                # Stay where we are\n",
    "            end\n",
    "        end\n",
    "        chain[i, 1:end] = p\n",
    "    end\n",
    "    # The number of times we step each parameter is roughly n_steps / n_parameters\n",
    "    chain, n_accept ./ (n_steps ./ length(p))\n",
    "end;"
   ]
  },
  {
   "cell_type": "markdown",
   "id": "249331f0-0c8d-433b-9819-02667786f3b7",
   "metadata": {},
   "source": [
    "Here I run the cyclic Monte Carlo Markov chain so that I can tune the parameters.\n",
    "I went for more samples and smaller jumps as this function does not take too long to execute.\n",
    "I took a look at acceptance rates too to make sure that most jumps were good jumps, I chose the smaller jumps size to increase the acceptance rate of sampling with all paramters having similar acceptance rates."
   ]
  },
  {
   "cell_type": "code",
   "execution_count": null,
   "id": "4170f909-27ca-452f-be7c-ab9d136f904f",
   "metadata": {},
   "outputs": [],
   "source": [
    "function propose(p, jump_sizes)\n",
    "    p .+ randn(length(p)) .* jump_sizes\n",
    "end;\n",
    "\n",
    "initial_guess = [abs_mag, .5, .5]\n",
    "jump_sizes = [0.005, 0.02, 0.02]\n",
    "\n",
    "chain, accept_rate = mcmc_cyclic(p -> \n",
    "        supernova_log_likelihood(data.z, data.mag, data.sigma_mag, p[1], p[2], p[3]),\n",
    "p -> propose(p, jump_sizes),\n",
    "initial_guess, 150000)\n",
    "println(\"Acceptance Rates\")\n",
    "accept_rate"
   ]
  },
  {
   "cell_type": "markdown",
   "id": "df946c71-7b16-45c8-9eef-fc0719012e58",
   "metadata": {},
   "source": [
    "I only plot the samples as the corner plot as it makes the sampling most clear."
   ]
  },
  {
   "cell_type": "code",
   "execution_count": null,
   "id": "3ae96f86-e040-4663-8f56-db2da098f687",
   "metadata": {},
   "outputs": [],
   "source": [
    "display(cornerplot(chain, [\"M\", \"Omega_M\", \"Omega_DE\"]))"
   ]
  },
  {
   "cell_type": "code",
   "execution_count": null,
   "id": "3b71dc74-fb07-4256-842e-44288421544b",
   "metadata": {},
   "outputs": [],
   "source": [
    "f = Figure(size = (1500, 400))\n",
    "ax = Axis(f[1,1], title=\"MCMC chain for M\", xlabel=\"step\", ylabel=\"M\")\n",
    "\n",
    "scatter!(chain[1:10:end, 1])\n",
    "ax = Axis(f[1,2], title=\"MCMC chain for Omega_M\", xlabel=\"step\", ylabel=\"Omega_M\")\n",
    "scatter!(chain[1:10:end, 2])\n",
    "ax = Axis(f[1,3], title=\"MCMC chain for Omega_DE\", xlabel=\"step\", ylabel=\"Omega_DE\")\n",
    "scatter!(chain[1:10:end, 3])\n",
    "\n",
    "display(f)"
   ]
  },
  {
   "cell_type": "markdown",
   "id": "b461568a-ce96-4bb3-9031-652320a7334c",
   "metadata": {},
   "source": [
    "Finally, please try to make a contour plot similar to Perlmutter et al.'s Figure 7.  From your MCMC chain, you can pull out the `Omega_M` and `Omega_DE` arrays, and then create a 2-d histogram.  Once you have a 2-d histogram, you can use the `contour` function to find and plot the contours in that histogram."
   ]
  },
  {
   "cell_type": "code",
   "execution_count": null,
   "id": "8b97b0ef-50a8-4465-abee-24cacfac858c",
   "metadata": {},
   "outputs": [],
   "source": [
    "OmegaMMCMC = chain[begin:end, 2]\n",
    "OmegaDEMCMC = chain[begin:end, 3];"
   ]
  },
  {
   "cell_type": "markdown",
   "id": "3a04abf7-361d-4596-b111-26d8af355624",
   "metadata": {},
   "source": [
    "Here I bin the data in a 2D histogram. I did it in a for loop placing the histogram values in appropriate bins."
   ]
  },
  {
   "cell_type": "code",
   "execution_count": null,
   "id": "bfcb9475-b415-4e3e-a25d-27fb547cb1f8",
   "metadata": {},
   "outputs": [],
   "source": [
    "n_ombins, n_odebins = 20,20\n",
    "\n",
    "om_gridMCMC = LinRange(minimum(OmegaMMCMC), maximum(OmegaMMCMC), n_ombins + 1)\n",
    "ode_gridMCMC = LinRange(minimum(OmegaDEMCMC), maximum(OmegaDEMCMC), n_odebins + 1)\n",
    "\n",
    "minOmegaMMCMC = minimum(OmegaMMCMC)\n",
    "minOmegaDEMCMC = minimum(OmegaDEMCMC)\n",
    "maxOmegaMMCMC = maximum(OmegaMMCMC)\n",
    "maxOmegaDEMCMC = maximum(OmegaDEMCMC)\n",
    "rangeOmegaMMCMC = maxOmegaMMCMC - minOmegaMMCMC\n",
    "rangeOmegaDEMCMC = maxOmegaDEMCMC - minOmegaDEMCMC\n",
    "\n",
    "histogramValues = zeros(n_ombins + 1, n_odebins + 1)\n",
    "for i in 1:size(OmegaDEMCMC)[begin]\n",
    "    histogramValues[trunc(Int, (OmegaMMCMC[i] - minOmegaMMCMC) * n_ombins / (rangeOmegaMMCMC)) + 1, trunc(Int, (OmegaDEMCMC[i] - minOmegaDEMCMC) * n_odebins / rangeOmegaDEMCMC) + 1] += 1\n",
    "## I was doing to more manually, which is probably correct, but very slow.\n",
    "#    for j in 1:(n_ombins - 1)\n",
    "#        for k in 1:(n_odebins - 1)\n",
    "#            histogramValues[j, k] += (om_gridMCMC[j] <= OmegaMMCMC[i] && OmegaMMCMC[i] <= om_gridMCMC[j + 1] && ode_gridMCMC[k] <= OmegaDEMCMC[i] && OmegaDEMCMC[i] <= ode_gridMCMC[k + 1])\n",
    "#        end\n",
    "#    end\n",
    "end\n",
    "histogramValues;"
   ]
  },
  {
   "cell_type": "markdown",
   "id": "7c056a89-72ca-4767-a917-af246d97f351",
   "metadata": {},
   "source": [
    "Next I just call the contour plot function on the  histogram matrix."
   ]
  },
  {
   "cell_type": "code",
   "execution_count": null,
   "id": "d8f29e9d-6d71-43c3-acad-51abcbfa3199",
   "metadata": {},
   "outputs": [],
   "source": [
    "f = Figure()\n",
    "Axis(f[1, 1])\n",
    "\n",
    "contour!(om_gridMCMC, ode_gridMCMC, histogramValues)\n",
    "\n",
    "display(f)"
   ]
  },
  {
   "cell_type": "code",
   "execution_count": null,
   "id": "8b94de01-8413-4a1f-ba9d-a150129755e8",
   "metadata": {},
   "outputs": [],
   "source": [
    "] add FHist AffineInvariantMCMC"
   ]
  },
  {
   "cell_type": "markdown",
   "id": "550efeec-8d2e-4039-9ccc-55f98bb34853",
   "metadata": {},
   "source": [
    "Here I tested the FHist package that was mentioned in the lectures."
   ]
  },
  {
   "cell_type": "code",
   "execution_count": null,
   "id": "ffd7b893-e6be-46a9-8c84-995bfc7dc536",
   "metadata": {},
   "outputs": [],
   "source": [
    "using FHist\n",
    "\n",
    "h = FHist.Hist2D((chain[:,2], chain[:,3]); nbins=(100,100))\n",
    "\n",
    "counts = bincounts(h);\n",
    "xc,yc = bincenters(h);\n",
    "\n",
    "display(contour(xc, yc, counts)) #, levels=[10,50,100])\n",
    "#really small/many bins make this contour plot really jaggered"
   ]
  },
  {
   "cell_type": "markdown",
   "id": "5ce28597-3b18-4d10-9d22-0022dc447aef",
   "metadata": {},
   "source": [
    "Doing this with fewer bigger bins makes the contours smoother, similar to my manual way. FHist seems to be binning data slightly differently to me..."
   ]
  },
  {
   "cell_type": "code",
   "execution_count": null,
   "id": "825e9c3a-d185-45eb-9d41-0c0f7a314170",
   "metadata": {},
   "outputs": [],
   "source": [
    "h = FHist.Hist2D((chain[:,2], chain[:,3]); nbins=(20,20))\n",
    "\n",
    "counts = bincounts(h);\n",
    "xc,yc = bincenters(h);\n",
    "\n",
    "display(contour(xc, yc, counts))#, levels=[10,50,100])"
   ]
  },
  {
   "cell_type": "markdown",
   "id": "bf2d4915-42af-499d-a4ac-e96129184e87",
   "metadata": {},
   "source": [
    "Doing samples with the Affine MCMC method mentioned in the lectures.\n",
    "\"Self-tunes parameters\"."
   ]
  },
  {
   "cell_type": "code",
   "execution_count": null,
   "id": "3ef636ea-2849-407a-a8df-d6cc17575fc3",
   "metadata": {},
   "outputs": [],
   "source": [
    "using AffineInvariantMCMC\n",
    "\n",
    "numdims = 3\n",
    "numwalkers = 50\n",
    "thinning = 10\n",
    "numsamples_perwalker = 15000\n",
    "burnin = 5000\n",
    "\n",
    "# Start out by doing a \"burn-in\" short run...\n",
    "initial = [abs_mag, 0.5, 0.5] .+ randn(numdims, numwalkers)*0.01\n",
    "chain, ll = AffineInvariantMCMC.sample( p -> \n",
    "        try\n",
    "            supernova_log_likelihood(data.z, data.mag, data.sigma_mag, p[1], p[2], p[3])\n",
    "        catch err\n",
    "            -Inf\n",
    "        end, numwalkers, initial, burnin, 1)\n",
    "\n",
    "# Then start the \"main\" run where the burn-in finished:\n",
    "initial = chain[:,:,end]\n",
    "chain, ll = AffineInvariantMCMC.sample( \n",
    "   p -> \n",
    "        try\n",
    "            supernova_log_likelihood(data.z, data.mag, data.sigma_mag, p[1], p[2], p[3])\n",
    "        catch err\n",
    "            -Inf\n",
    "        end\n",
    "    , numwalkers, initial, numsamples_perwalker, thinning)\n",
    "flatchain, flatllhoodvals = AffineInvariantMCMC. flattenmcmcarray(chain, ll);\n",
    "\n",
    "# This \"flatchain\" is transposed from the way we produced it in our code, so you can do\n",
    "\n",
    "chain = flatchain';"
   ]
  },
  {
   "cell_type": "markdown",
   "id": "207d03c2-544b-4313-9de9-13b659fc9d82",
   "metadata": {},
   "source": [
    "The affine MCMC doesn't seem to give perfect sampling, some samples seem to be out of the main distribution, even starting on the main distribution, but does an amazing job considering the lack of needing to tune jump size parameters."
   ]
  },
  {
   "cell_type": "code",
   "execution_count": null,
   "id": "d4462f2e-081c-42ac-acc3-f135da9d358f",
   "metadata": {},
   "outputs": [],
   "source": [
    "display(cornerplot(chain, [\"M\", \"Omega_M\", \"Omega_DE\"]))"
   ]
  },
  {
   "cell_type": "markdown",
   "id": "c1e2b23a-622d-4fb8-a911-7a99669cca7e",
   "metadata": {},
   "source": [
    "Now I plot these contours, pretty smooth :)"
   ]
  },
  {
   "cell_type": "code",
   "execution_count": null,
   "id": "88c9934f-bc2d-4fc5-b38e-96638eaac3d4",
   "metadata": {},
   "outputs": [],
   "source": [
    "h = FHist.Hist2D((chain[:,2], chain[:,3]); nbins=(20,20))\n",
    "\n",
    "counts = bincounts(h);\n",
    "xc,yc = bincenters(h);\n",
    "\n",
    "display(contour(xc, yc, counts))#, levels=[10,50,100])"
   ]
  },
  {
   "cell_type": "code",
   "execution_count": null,
   "id": "3435ca00-9c13-42c1-b203-c049d23e99f3",
   "metadata": {},
   "outputs": [],
   "source": [
    "h = FHist.Hist2D((chain[:,2], chain[:,3]); nbins=(100,100))\n",
    "\n",
    "counts = bincounts(h);\n",
    "xc,yc = bincenters(h);\n",
    "\n",
    "display(contour(xc, yc, counts)) #, levels=[10,50,100])"
   ]
  }
 ],
 "metadata": {
  "kernelspec": {
   "display_name": "Julia 1.10.0",
   "language": "julia",
   "name": "julia-1.10"
  },
  "language_info": {
   "file_extension": ".jl",
   "mimetype": "application/julia",
   "name": "julia",
   "version": "1.10.0"
  }
 },
 "nbformat": 4,
 "nbformat_minor": 5
}
